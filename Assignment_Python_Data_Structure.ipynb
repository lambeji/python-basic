{
  "nbformat": 4,
  "nbformat_minor": 0,
  "metadata": {
    "colab": {
      "provenance": []
    },
    "kernelspec": {
      "name": "python3",
      "display_name": "Python 3"
    },
    "language_info": {
      "name": "python"
    }
  },
  "cells": [
    {
      "cell_type": "markdown",
      "source": [],
      "metadata": {
        "id": "rv5vmaD3w_JJ"
      }
    },
    {
      "cell_type": "markdown",
      "source": [
        "1.What are data structures, and why are they important?\n",
        "- Data structures are special ways of organizing and storing data in a computer so that we can use it efficiently.\n",
        "2. Explain the difference between mutable and immutable data types with examples\n",
        "- Mutable's can change their content after they are created and immutable can not. ex of mutable- list,set,dict.\n",
        "ex of immutable- tuple.\n",
        "3.What are the main differences between lists and tuples in Python3\n",
        "- Lists are mutable, meaning their elements can be changed, while tuples are immutable and cannot be modified after creation.\n",
        "Lists use square brackets [ ], and tuples use parentheses ( ).\n",
        "4. Describe how dictionaries store data\n",
        "- Dictionaries in Python store data as key-value pairs inside curly braces {}.\n",
        "Each key is unique and maps to a value, allowing fast lookup by key.\n",
        "5.Why might you use a set instead of a list in Python?\n",
        "- You need to automatically remove duplicates — sets store only unique elements.\n",
        " You want faster membership checks — x in my_set is quicker than in a list due to hashing.\n",
        "6.What is a string in Python, and how is it different from a list\n",
        "- A string in Python is a sequence of characters enclosed in quotes (' ' or \" \"), like \"hello\".\n",
        "A list is a collection of items (which can be of any type) enclosed in square brackets, like [\"h\", \"e\", \"l\", \"l\", \"o\"].\n",
        "7.How do tuples ensure data integrity in Python.\n",
        "- Tuples ensure data integrity in Python because they are immutable, meaning their contents cannot be changed after creation.\n",
        "8.What is a hash table, and how does it relate to dictionaries in Python.\n",
        "- A hash table is a data structure that stores data in key-value pairs using a hashing function to quickly locate keys.\n",
        "In Python, dictionaries are implemented using hash tables.\n",
        "9. Can lists contain different data types in Python?\n",
        "- Yes, lists can contain different data types in Python.\n",
        "Python lists are heterogeneous, meaning they can hold elements like integers, strings, floats, even other lists or objects — all in the same list.\n",
        "10.  Explain why strings are immutable in Python.\n",
        "- Strings are immutable in Python to ensure security, consistency, and efficiency.\n",
        "11.What advantages do dictionaries offer over lists for certain tasks.\n",
        "- Dictionaries offer key advantages over lists for certain tasks, especially when key-based access is needed.\n",
        "12.Describe a scenario where using a tuple would be preferable over a list.\n",
        "- A tuple is preferable over a list when you want to store fixed, unchangeable data to ensure it cannot be modified.\n",
        "13.How do sets handle duplicate values in Python?\n",
        "- In Python, sets automatically remove duplicate values because they only store unique elements. When you try to add a duplicate value to a set, it simply ignores it.\n",
        "14.How does the “in” keyword work differently for lists and dictionaries.\n",
        "- In Python, the **in** keyword checks for membership, but it behaves differently for lists and dictionaries.\n",
        "15.Can you modify the elements of a tuple? Explain why or why not.\n",
        "- Tuples are immutable, meaning once they are created, their elements cannot be changed, added, or removed.\n",
        "This immutability ensures data integrity and allows tuples to be used as keys in dictionaries or elements in sets.\n",
        "16.What is a nested dictionary, and give an example of its use case.\n",
        "- A nested dictionary is a dictionary inside another dictionary. It's used to store hierarchical or grouped data in a structured way.\n",
        "17. Describe the time complexity of accessing elements in a dictionary.\n",
        "- Happens only when hash collisions occur frequently, which is uncommon due to Python's efficient hashing and collision handling.\n",
        "18.In what situations are lists preferred over dictionaries.\n",
        "- Lists maintain the order of elements, which is useful for sequences or ordered data. If you’re working with simple, unnamed values, lists are cleaner.\n",
        "19.Why are dictionaries considered unordered, and how does that affect data retrieval.\n",
        "- Internally, dictionaries use a hash table to store key-value pairs.\n",
        "Keys are stored based on their hash values, not their insertion order. Internally, dictionaries use a hash table to store key-value pairs.\n",
        "Keys are stored based on their hash values, not their insertion order.\n",
        "20. Explain the difference between a list and a dictionary in terms of data retrieval.\n",
        "- A list retrieves data using index positions, where each element is accessed by its numerical index starting from 0.\n",
        "A dictionary retrieves data using keys, allowing fast access to values based on meaningful labels rather than position.\n"
      ],
      "metadata": {
        "id": "LApX0ttQrL_s"
      }
    },
    {
      "cell_type": "markdown",
      "source": [
        "Write a code to create a string with your name and print it"
      ],
      "metadata": {
        "id": "C49zCsQNRaVM"
      }
    },
    {
      "cell_type": "code",
      "source": [
        "string1=\"chinmay\"\n",
        "string1"
      ],
      "metadata": {
        "id": "d5k2lGNeOM0b",
        "colab": {
          "base_uri": "https://localhost:8080/",
          "height": 36
        },
        "outputId": "2a39b1eb-ffa4-449e-bb10-c905a9e9c286"
      },
      "execution_count": null,
      "outputs": [
        {
          "output_type": "execute_result",
          "data": {
            "text/plain": [
              "'chinmay'"
            ],
            "application/vnd.google.colaboratory.intrinsic+json": {
              "type": "string"
            }
          },
          "metadata": {},
          "execution_count": 6
        }
      ]
    },
    {
      "cell_type": "markdown",
      "source": [
        "Write a code to find the length of the string \"Hello World\"P"
      ],
      "metadata": {
        "id": "w2zprZmLR0rH"
      }
    },
    {
      "cell_type": "code",
      "source": [
        "string_1=\"hello world\"\n",
        "len(string_1)"
      ],
      "metadata": {
        "colab": {
          "base_uri": "https://localhost:8080/"
        },
        "id": "jMpH_joERt7H",
        "outputId": "975eed63-25fb-49b5-b8af-b47f3ca94245"
      },
      "execution_count": null,
      "outputs": [
        {
          "output_type": "execute_result",
          "data": {
            "text/plain": [
              "11"
            ]
          },
          "metadata": {},
          "execution_count": 7
        }
      ]
    },
    {
      "cell_type": "markdown",
      "source": [
        "Write a code to slice the first 3 characters from the string \"Python Programming\""
      ],
      "metadata": {
        "id": "hCrTIIc1SLZ7"
      }
    },
    {
      "cell_type": "code",
      "source": [
        "s=\"Python Programming\"\n",
        "s[3:]"
      ],
      "metadata": {
        "colab": {
          "base_uri": "https://localhost:8080/",
          "height": 36
        },
        "id": "vvJcpu-0SDz1",
        "outputId": "3cc5507a-c97e-4800-f195-6add9585dc1e"
      },
      "execution_count": null,
      "outputs": [
        {
          "output_type": "execute_result",
          "data": {
            "text/plain": [
              "'hon Programming'"
            ],
            "application/vnd.google.colaboratory.intrinsic+json": {
              "type": "string"
            }
          },
          "metadata": {},
          "execution_count": 8
        }
      ]
    },
    {
      "cell_type": "markdown",
      "source": [
        " Write a code to convert the string \"hello\" to uppercase"
      ],
      "metadata": {
        "id": "UCixwzvMSfx4"
      }
    },
    {
      "cell_type": "code",
      "source": [
        "s=\"hello\"\n",
        "s.upper()"
      ],
      "metadata": {
        "colab": {
          "base_uri": "https://localhost:8080/",
          "height": 36
        },
        "id": "ICAOCsVCSY8P",
        "outputId": "ea6a6b8a-17ec-400b-fbce-dbcb0c25a617"
      },
      "execution_count": null,
      "outputs": [
        {
          "output_type": "execute_result",
          "data": {
            "text/plain": [
              "'HELLO'"
            ],
            "application/vnd.google.colaboratory.intrinsic+json": {
              "type": "string"
            }
          },
          "metadata": {},
          "execution_count": 9
        }
      ]
    },
    {
      "cell_type": "markdown",
      "source": [
        "Write a code to replace the word \"apple\" with \"orange\" in the string \"I like apple\"P"
      ],
      "metadata": {
        "id": "DxQAU1g-S8nE"
      }
    },
    {
      "cell_type": "code",
      "source": [
        "text = \"I like apple\"\n",
        "new_text = text.replace(\"apple\", \"orange\")\n",
        "print(new_text)"
      ],
      "metadata": {
        "colab": {
          "base_uri": "https://localhost:8080/"
        },
        "id": "zjyHWVsASuJ1",
        "outputId": "648fd0c4-baf3-4347-b7bf-5af3f865d1c2"
      },
      "execution_count": null,
      "outputs": [
        {
          "output_type": "stream",
          "name": "stdout",
          "text": [
            "I like orange\n"
          ]
        }
      ]
    },
    {
      "cell_type": "markdown",
      "source": [
        "Write a code to create a list with numbers 1 to 5 and print itP"
      ],
      "metadata": {
        "id": "W-pRxpiuVSTy"
      }
    },
    {
      "cell_type": "code",
      "source": [
        "list=[1,2,3,4,5]\n",
        "list"
      ],
      "metadata": {
        "colab": {
          "base_uri": "https://localhost:8080/"
        },
        "id": "bqCzpeP3TJuM",
        "outputId": "83a067fa-ab49-4b91-bb26-c76b64b8dff2"
      },
      "execution_count": null,
      "outputs": [
        {
          "output_type": "execute_result",
          "data": {
            "text/plain": [
              "[1, 2, 3, 4, 5]"
            ]
          },
          "metadata": {},
          "execution_count": 11
        }
      ]
    },
    {
      "cell_type": "markdown",
      "source": [
        " Write a code to append the number 10 to the list [1, 2, 3, 4]"
      ],
      "metadata": {
        "id": "VQhc7GA7VxQH"
      }
    },
    {
      "cell_type": "code",
      "source": [
        "new_list=[1,2,3,4]\n",
        "new_list.append(10)\n",
        "new_list"
      ],
      "metadata": {
        "colab": {
          "base_uri": "https://localhost:8080/"
        },
        "id": "quKBLAL2V1wW",
        "outputId": "582d6b24-ed3b-45a2-887a-734fecc039ef"
      },
      "execution_count": null,
      "outputs": [
        {
          "output_type": "execute_result",
          "data": {
            "text/plain": [
              "[1, 2, 3, 4, 10]"
            ]
          },
          "metadata": {},
          "execution_count": 12
        }
      ]
    },
    {
      "cell_type": "markdown",
      "source": [
        "Write a code to remove the number 3 from the list [1, 2, 3, 4, 5]P"
      ],
      "metadata": {
        "id": "JAocVIUNWFJ8"
      }
    },
    {
      "cell_type": "code",
      "source": [
        "num=[1,2,3,4,5]\n",
        "num.remove(5)\n",
        "num"
      ],
      "metadata": {
        "colab": {
          "base_uri": "https://localhost:8080/"
        },
        "id": "gozxcDgvWB-T",
        "outputId": "098e8c96-bc82-40f2-9a51-297fec60e75f"
      },
      "execution_count": null,
      "outputs": [
        {
          "output_type": "execute_result",
          "data": {
            "text/plain": [
              "[1, 2, 3, 4]"
            ]
          },
          "metadata": {},
          "execution_count": 13
        }
      ]
    },
    {
      "cell_type": "markdown",
      "source": [
        "Write a code to access the second element in the list ['a', 'b', 'c', 'd']"
      ],
      "metadata": {
        "id": "YUsILlwfWViO"
      }
    },
    {
      "cell_type": "code",
      "source": [
        "access=['a', 'b', 'c', 'd']\n",
        "access[1]"
      ],
      "metadata": {
        "colab": {
          "base_uri": "https://localhost:8080/",
          "height": 36
        },
        "id": "thfIUDBAWR9s",
        "outputId": "aa942a54-2bab-4d05-8c98-dc988c56634e"
      },
      "execution_count": null,
      "outputs": [
        {
          "output_type": "execute_result",
          "data": {
            "text/plain": [
              "'b'"
            ],
            "application/vnd.google.colaboratory.intrinsic+json": {
              "type": "string"
            }
          },
          "metadata": {},
          "execution_count": 14
        }
      ]
    },
    {
      "cell_type": "markdown",
      "source": [
        "Write a code to reverse the list [10, 20, 30, 40, 50]"
      ],
      "metadata": {
        "id": "R7pUtqy2gPfv"
      }
    },
    {
      "cell_type": "code",
      "source": [
        "list=[10, 20, 30, 40, 50]\n",
        "list.reverse()"
      ],
      "metadata": {
        "id": "TZEEJWhwgL-4"
      },
      "execution_count": null,
      "outputs": []
    },
    {
      "cell_type": "code",
      "source": [
        "list"
      ],
      "metadata": {
        "colab": {
          "base_uri": "https://localhost:8080/"
        },
        "id": "2oUZ8S6Sgkco",
        "outputId": "2267670f-b86b-4e28-eb07-06f537f576d2"
      },
      "execution_count": null,
      "outputs": [
        {
          "output_type": "execute_result",
          "data": {
            "text/plain": [
              "[50, 40, 30, 20, 10]"
            ]
          },
          "metadata": {},
          "execution_count": 16
        }
      ]
    },
    {
      "cell_type": "markdown",
      "source": [
        " Write a code to create a tuple with the elements 100, 200, 300 and print it."
      ],
      "metadata": {
        "id": "MSnu2Y8Jgve4"
      }
    },
    {
      "cell_type": "code",
      "source": [
        "t=(100,200,300)\n",
        "type(t)"
      ],
      "metadata": {
        "colab": {
          "base_uri": "https://localhost:8080/"
        },
        "id": "duH_yLbXgl1B",
        "outputId": "ad692437-72c1-4e51-b128-bb7e557a60b3"
      },
      "execution_count": null,
      "outputs": [
        {
          "output_type": "execute_result",
          "data": {
            "text/plain": [
              "tuple"
            ]
          },
          "metadata": {},
          "execution_count": 17
        }
      ]
    },
    {
      "cell_type": "code",
      "source": [
        "print (t)"
      ],
      "metadata": {
        "colab": {
          "base_uri": "https://localhost:8080/"
        },
        "id": "cMEUxqm6g1JX",
        "outputId": "0c356898-f58d-4618-e33f-35e82a6f039b"
      },
      "execution_count": null,
      "outputs": [
        {
          "output_type": "stream",
          "name": "stdout",
          "text": [
            "(100, 200, 300)\n"
          ]
        }
      ]
    },
    {
      "cell_type": "markdown",
      "source": [
        " Write a code to access the second-to-last element of the tuple ('red', 'green', 'blue', 'yellow')."
      ],
      "metadata": {
        "id": "TRO0F29MhAcs"
      }
    },
    {
      "cell_type": "code",
      "source": [
        "colour= ('red', 'green', 'blue', 'yellow')\n",
        "colour[1:4]"
      ],
      "metadata": {
        "colab": {
          "base_uri": "https://localhost:8080/"
        },
        "id": "vdsrMZtwg3l4",
        "outputId": "ceb1fe91-ba69-4635-8046-786212924423"
      },
      "execution_count": null,
      "outputs": [
        {
          "output_type": "execute_result",
          "data": {
            "text/plain": [
              "('green', 'blue', 'yellow')"
            ]
          },
          "metadata": {},
          "execution_count": 19
        }
      ]
    },
    {
      "cell_type": "markdown",
      "source": [
        " Write a code to find the minimum number in the tuple (10, 20, 5, 15)."
      ],
      "metadata": {
        "id": "4lSb04bdhjdH"
      }
    },
    {
      "cell_type": "code",
      "source": [
        "min_num=(10, 20, 5, 15)\n",
        "min(min_num)"
      ],
      "metadata": {
        "colab": {
          "base_uri": "https://localhost:8080/"
        },
        "id": "7ZEUM-GkhQLB",
        "outputId": "c862a89d-9663-4c0a-9c91-a1d27cef4ebb"
      },
      "execution_count": null,
      "outputs": [
        {
          "output_type": "execute_result",
          "data": {
            "text/plain": [
              "5"
            ]
          },
          "metadata": {},
          "execution_count": 20
        }
      ]
    },
    {
      "cell_type": "markdown",
      "source": [
        "Write a code to find the index of the element \"cat\" in the tuple ('dog', 'cat', 'rabbit')."
      ],
      "metadata": {
        "id": "HsWEyCDpiHX2"
      }
    },
    {
      "cell_type": "code",
      "source": [
        "animals=('dog', 'cat', 'rabbit')\n",
        "animals.index(\"cat\")"
      ],
      "metadata": {
        "colab": {
          "base_uri": "https://localhost:8080/"
        },
        "id": "EkEuO4JLh-ib",
        "outputId": "a5dbdb57-ace3-4831-9488-8d7f6d55328c"
      },
      "execution_count": null,
      "outputs": [
        {
          "output_type": "execute_result",
          "data": {
            "text/plain": [
              "1"
            ]
          },
          "metadata": {},
          "execution_count": 21
        }
      ]
    },
    {
      "cell_type": "markdown",
      "source": [
        " Write a code to create a tuple containing three different fruits and check if \"kiwi\" is in it."
      ],
      "metadata": {
        "id": "63VC1yh9ilbJ"
      }
    },
    {
      "cell_type": "code",
      "source": [
        "fruits=(\"kiwi\",\"mango\",\"banana\")\n",
        "\n",
        "\n",
        "if \"kiwi\" in fruits:\n",
        "    print(\"Kiwi is in the tuple.\")\n",
        "else:\n",
        "    print(\"Kiwi is not in the tuple.\")"
      ],
      "metadata": {
        "colab": {
          "base_uri": "https://localhost:8080/"
        },
        "id": "eb6tdkW-jF_4",
        "outputId": "69639b57-699f-4c21-cb51-2b9e1db65f47"
      },
      "execution_count": null,
      "outputs": [
        {
          "output_type": "stream",
          "name": "stdout",
          "text": [
            "Kiwi is in the tuple.\n"
          ]
        }
      ]
    },
    {
      "cell_type": "markdown",
      "source": [
        ". Write a code to create a set with the elements 'a', 'b', 'c' and print it."
      ],
      "metadata": {
        "id": "4AOih4dDkSHG"
      }
    },
    {
      "cell_type": "code",
      "source": [
        "s={'a', 'b', 'c'}\n",
        "print(s)"
      ],
      "metadata": {
        "colab": {
          "base_uri": "https://localhost:8080/"
        },
        "id": "3VH3CklPj2Mq",
        "outputId": "d9c85a83-aaee-421e-ac99-f19907baa17d"
      },
      "execution_count": null,
      "outputs": [
        {
          "output_type": "stream",
          "name": "stdout",
          "text": [
            "{'c', 'a', 'b'}\n"
          ]
        }
      ]
    },
    {
      "cell_type": "markdown",
      "source": [
        "Write a code to clear all elements from the set {1, 2, 3, 4, 5}."
      ],
      "metadata": {
        "id": "2wg7L4bhkpF9"
      }
    },
    {
      "cell_type": "code",
      "source": [
        "a= {1, 2, 3, 4, 5}\n",
        "a.clear()"
      ],
      "metadata": {
        "id": "AX6xLssNkZ__"
      },
      "execution_count": null,
      "outputs": []
    },
    {
      "cell_type": "code",
      "source": [
        "a"
      ],
      "metadata": {
        "colab": {
          "base_uri": "https://localhost:8080/"
        },
        "id": "agAWCLiPk1on",
        "outputId": "19ce6b00-942e-4612-8253-6907f9355d1a"
      },
      "execution_count": null,
      "outputs": [
        {
          "output_type": "execute_result",
          "data": {
            "text/plain": [
              "set()"
            ]
          },
          "metadata": {},
          "execution_count": 25
        }
      ]
    },
    {
      "cell_type": "markdown",
      "source": [
        "Write a code to remove the element 4 from the set {1, 2, 3, 4}"
      ],
      "metadata": {
        "id": "M05qva6Gk8Ke"
      }
    },
    {
      "cell_type": "code",
      "source": [
        "s={1, 2, 3, 4}\n",
        "s.remove(4)"
      ],
      "metadata": {
        "id": "VJhNimmFk2OB"
      },
      "execution_count": null,
      "outputs": []
    },
    {
      "cell_type": "code",
      "source": [
        "s"
      ],
      "metadata": {
        "colab": {
          "base_uri": "https://localhost:8080/"
        },
        "id": "9WwgI6wWlAvw",
        "outputId": "47f8581d-bec8-4040-a4ed-22d5d8b488f7"
      },
      "execution_count": null,
      "outputs": [
        {
          "output_type": "execute_result",
          "data": {
            "text/plain": [
              "{1, 2, 3}"
            ]
          },
          "metadata": {},
          "execution_count": 27
        }
      ]
    },
    {
      "cell_type": "markdown",
      "source": [
        "Write a code to find the union of two sets {1, 2, 3} and {3, 4, 5}"
      ],
      "metadata": {
        "id": "awwthYzclEwK"
      }
    },
    {
      "cell_type": "code",
      "source": [
        "A={1, 2, 3}\n",
        "B={3, 4, 5}\n",
        "union_set = A.union(B)"
      ],
      "metadata": {
        "id": "6zgnoNEglEax"
      },
      "execution_count": null,
      "outputs": []
    },
    {
      "cell_type": "code",
      "source": [
        "print(union_set)"
      ],
      "metadata": {
        "colab": {
          "base_uri": "https://localhost:8080/"
        },
        "id": "QPJWCAF_lBDP",
        "outputId": "601e3974-8b9f-4cab-9bbe-d4380e8992c7"
      },
      "execution_count": null,
      "outputs": [
        {
          "output_type": "stream",
          "name": "stdout",
          "text": [
            "{1, 2, 3, 4, 5}\n"
          ]
        }
      ]
    },
    {
      "cell_type": "markdown",
      "source": [
        " Write a code to find the intersection of two sets {1, 2, 3} and {2, 3, 4}."
      ],
      "metadata": {
        "id": "xpgHId6OmSGu"
      }
    },
    {
      "cell_type": "code",
      "source": [
        "A={1, 2, 3}\n",
        "B={3, 4, 5}\n",
        "intersection_set= A.intersection(B)"
      ],
      "metadata": {
        "id": "FnewfR-kmONA"
      },
      "execution_count": null,
      "outputs": []
    },
    {
      "cell_type": "code",
      "source": [
        "print(intersection_set)"
      ],
      "metadata": {
        "colab": {
          "base_uri": "https://localhost:8080/"
        },
        "id": "heHVZrUImbPX",
        "outputId": "9e5c4b28-53f1-488e-dc45-9c8e1bbffb7c"
      },
      "execution_count": null,
      "outputs": [
        {
          "output_type": "stream",
          "name": "stdout",
          "text": [
            "{3}\n"
          ]
        }
      ]
    },
    {
      "cell_type": "markdown",
      "source": [
        "Write a code to create a dictionary with the keys \"name\", \"age\", and \"city\", and print it."
      ],
      "metadata": {
        "id": "2Lw0pAgnEfTj"
      }
    },
    {
      "cell_type": "code",
      "source": [
        "d={\"name\":\"Chinmay\",\"age\":\"28\",\"city\":\"Indore\"}\n",
        "print(d)"
      ],
      "metadata": {
        "colab": {
          "base_uri": "https://localhost:8080/"
        },
        "id": "i0Op3n94iVcx",
        "outputId": "ca25f227-de2b-4d3d-b7ab-3181ac9710f9"
      },
      "execution_count": null,
      "outputs": [
        {
          "output_type": "stream",
          "name": "stdout",
          "text": [
            "{'name': 'Chinmay', 'age': '28', 'city': 'Indore'}\n"
          ]
        }
      ]
    },
    {
      "cell_type": "markdown",
      "source": [
        "Write a code to add a new key-value pair \"country\": \"USA\" to the dictionary {'name': 'John', 'age': 25}."
      ],
      "metadata": {
        "id": "FrmaAsNXFhOs"
      }
    },
    {
      "cell_type": "code",
      "source": [
        "abc={'name': 'John', 'age': 25}\n",
        "abc"
      ],
      "metadata": {
        "colab": {
          "base_uri": "https://localhost:8080/"
        },
        "id": "g2Z3PEaEFzfx",
        "outputId": "3f903112-08e6-427e-98de-05c537ca9c5d"
      },
      "execution_count": null,
      "outputs": [
        {
          "output_type": "execute_result",
          "data": {
            "text/plain": [
              "{'name': 'John', 'age': 25}"
            ]
          },
          "metadata": {},
          "execution_count": 33
        }
      ]
    },
    {
      "cell_type": "code",
      "source": [
        "abc[\"country\"]=\"USA\"\n",
        "abc"
      ],
      "metadata": {
        "colab": {
          "base_uri": "https://localhost:8080/"
        },
        "id": "SOvBbpTTFxGh",
        "outputId": "dd93af33-3666-4d73-8e31-36cd7429dc2c"
      },
      "execution_count": null,
      "outputs": [
        {
          "output_type": "execute_result",
          "data": {
            "text/plain": [
              "{'name': 'John', 'age': 25, 'country': 'USA'}"
            ]
          },
          "metadata": {},
          "execution_count": 34
        }
      ]
    },
    {
      "cell_type": "markdown",
      "source": [
        "Write a code to access the value associated with the key \"name\" in the dictionary {'name': 'Alice', 'age': 30}."
      ],
      "metadata": {
        "id": "JHWsaXuRGSSz"
      }
    },
    {
      "cell_type": "code",
      "source": [
        "A= {'name': 'Alice', 'age': 30}\n",
        "A['name']"
      ],
      "metadata": {
        "colab": {
          "base_uri": "https://localhost:8080/",
          "height": 36
        },
        "id": "Z_jU8jlqGOZS",
        "outputId": "5a17c19f-2d8f-4c8d-8db6-6f37f476cd2e"
      },
      "execution_count": null,
      "outputs": [
        {
          "output_type": "execute_result",
          "data": {
            "text/plain": [
              "'Alice'"
            ],
            "application/vnd.google.colaboratory.intrinsic+json": {
              "type": "string"
            }
          },
          "metadata": {},
          "execution_count": 35
        }
      ]
    },
    {
      "cell_type": "markdown",
      "source": [
        "Write a code to remove the key \"age\" from the dictionary {'name': 'Bob', 'age': 22, 'city': 'New York'}."
      ],
      "metadata": {
        "id": "MrTu7KgOGfyd"
      }
    },
    {
      "cell_type": "code",
      "source": [
        "rem={'name': 'Bob', 'age': 22, 'city': 'New York'}\n",
        "del rem[\"age\"]\n",
        "rem"
      ],
      "metadata": {
        "colab": {
          "base_uri": "https://localhost:8080/"
        },
        "id": "AU8zydM8Gcj7",
        "outputId": "aa860f83-18d8-4116-9b9c-f8527106657e"
      },
      "execution_count": null,
      "outputs": [
        {
          "output_type": "execute_result",
          "data": {
            "text/plain": [
              "{'name': 'Bob', 'city': 'New York'}"
            ]
          },
          "metadata": {},
          "execution_count": 36
        }
      ]
    },
    {
      "cell_type": "markdown",
      "source": [
        "Write a code to check if the key \"city\" exists in the dictionary {'name': 'Alice', 'city': 'Paris'}."
      ],
      "metadata": {
        "id": "KC5NJ0v6GvVs"
      }
    },
    {
      "cell_type": "code",
      "source": [
        "data = {'name': 'Alice', 'city': 'Paris'}\n",
        "\n",
        "if 'city' in data:\n",
        "    print(\"Key 'city' exists in the dictionary.\")\n",
        "else:\n",
        "    print(\"Key 'city' does not exist in the dictionary.\")"
      ],
      "metadata": {
        "colab": {
          "base_uri": "https://localhost:8080/"
        },
        "id": "zQIMkWa2GqEJ",
        "outputId": "0a4cfd8a-30c6-44a3-c6ec-28e760af2d75"
      },
      "execution_count": null,
      "outputs": [
        {
          "output_type": "stream",
          "name": "stdout",
          "text": [
            "Key 'city' exists in the dictionary.\n"
          ]
        }
      ]
    },
    {
      "cell_type": "markdown",
      "source": [
        "Write a code to create a list, a tuple, and a dictionary, and print them all."
      ],
      "metadata": {
        "id": "M5MtLGYqHUWy"
      }
    },
    {
      "cell_type": "code",
      "source": [
        "my_list=[\"ajay\",1,2,2.3,True]\n",
        "my_tuple=(\"chinmay\",3,4,5,)\n",
        "my_dictionary={\"name\":\"chinu\",\"age\":\"28\"}\n",
        "print(my_list)\n",
        "print(my_tuple)\n",
        "print(my_dictionary)\n"
      ],
      "metadata": {
        "colab": {
          "base_uri": "https://localhost:8080/"
        },
        "id": "rP9Rmds1HOSJ",
        "outputId": "c58e9096-80e6-4767-8df6-420d7a7ed7e9"
      },
      "execution_count": null,
      "outputs": [
        {
          "output_type": "stream",
          "name": "stdout",
          "text": [
            "['ajay', 1, 2, 2.3, True]\n",
            "('chinmay', 3, 4, 5)\n",
            "{'name': 'chinu', 'age': '28'}\n"
          ]
        }
      ]
    },
    {
      "cell_type": "markdown",
      "source": [
        "Write a code to create a list of 5 random numbers between 1 and 100, sort it in ascending order, and print the\n",
        "result.(replaced)"
      ],
      "metadata": {
        "id": "EvTE6NlxJcku"
      }
    },
    {
      "cell_type": "code",
      "source": [
        "import random\n",
        "\n",
        "# Create a list of 5 random numbers between 1 and 100\n",
        "random_numbers = [random.randint(1, 100) for _ in range(5)]\n",
        "\n",
        "# Sort the list in ascending order\n",
        "random_numbers.sort()\n",
        "\n",
        "# Print the sorted list\n",
        "print(\"Sorted list:\", random_numbers)"
      ],
      "metadata": {
        "id": "NHbueP4zIHki",
        "colab": {
          "base_uri": "https://localhost:8080/"
        },
        "outputId": "ff014b7a-7440-4cc1-d125-2eacb8495954"
      },
      "execution_count": null,
      "outputs": [
        {
          "output_type": "stream",
          "name": "stdout",
          "text": [
            "Sorted list: [45, 53, 80, 83, 95]\n"
          ]
        }
      ]
    },
    {
      "cell_type": "markdown",
      "source": [
        " Write a code to create a list with strings and print the element at the third index"
      ],
      "metadata": {
        "id": "hTeu7fvAqYYT"
      }
    },
    {
      "cell_type": "code",
      "source": [
        "my_list = [\"apple\", \"banana\", \"cherry\", \"orange\", \"grape\"]\n",
        "print(\"Element at third index:\", my_list[3])"
      ],
      "metadata": {
        "colab": {
          "base_uri": "https://localhost:8080/"
        },
        "id": "lQ6CraQgqM3I",
        "outputId": "143a7a9f-9d93-497b-9d4d-bc0c0531cc15"
      },
      "execution_count": null,
      "outputs": [
        {
          "output_type": "stream",
          "name": "stdout",
          "text": [
            "Element at third index: orange\n"
          ]
        }
      ]
    },
    {
      "cell_type": "markdown",
      "source": [
        ". Write a code to combine two dictionaries into one and print the result."
      ],
      "metadata": {
        "id": "lvBG7npgqsn8"
      }
    },
    {
      "cell_type": "code",
      "source": [
        "dict1 = {'a': 1, 'b': 2}\n",
        "dict2 = {'c': 3, 'd': 4}\n",
        "\n",
        "\n",
        "combined_dict = {**dict1, **dict2}\n",
        "\n",
        "\n",
        "print(\"Combined Dictionary:\", combined_dict)"
      ],
      "metadata": {
        "colab": {
          "base_uri": "https://localhost:8080/"
        },
        "id": "7wifXKxeqi3Q",
        "outputId": "9353ff94-bc8a-4cee-8087-63916a6f89a9"
      },
      "execution_count": null,
      "outputs": [
        {
          "output_type": "stream",
          "name": "stdout",
          "text": [
            "Combined Dictionary: {'a': 1, 'b': 2, 'c': 3, 'd': 4}\n"
          ]
        }
      ]
    },
    {
      "cell_type": "markdown",
      "source": [
        "Write a code to convert a list of strings into a set."
      ],
      "metadata": {
        "id": "YKvsHlUiq3tB"
      }
    },
    {
      "cell_type": "code",
      "source": [
        "string_list = [\"apple\", \"banana\", \"cherry\", \"apple\", \"banana\"]\n",
        "\n",
        "# Convert the list to a set\n",
        "string_set = set(string_list)\n",
        "\n",
        "# Print the set\n",
        "print(\"Set:\", string_set)"
      ],
      "metadata": {
        "colab": {
          "base_uri": "https://localhost:8080/"
        },
        "id": "7pwdkQHoqzuJ",
        "outputId": "d48fcd77-0305-425e-b7ef-4b341a88b668"
      },
      "execution_count": null,
      "outputs": [
        {
          "output_type": "stream",
          "name": "stdout",
          "text": [
            "Set: {'banana', 'cherry', 'apple'}\n"
          ]
        }
      ]
    },
    {
      "cell_type": "code",
      "source": [],
      "metadata": {
        "id": "meFHTahAq9IK"
      },
      "execution_count": null,
      "outputs": []
    }
  ]
}