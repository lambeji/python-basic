{
  "nbformat": 4,
  "nbformat_minor": 0,
  "metadata": {
    "colab": {
      "provenance": []
    },
    "kernelspec": {
      "name": "python3",
      "display_name": "Python 3"
    },
    "language_info": {
      "name": "python"
    }
  },
  "cells": [
    {
      "cell_type": "code",
      "execution_count": null,
      "metadata": {
        "id": "gyUfq7v_fq39"
      },
      "outputs": [],
      "source": []
    },
    {
      "cell_type": "markdown",
      "source": [
        " Q1 )What is Python, and why is it popular?\n",
        "\n",
        "- Python is a high-level, interpreted programming language known for its\n",
        "simplicity, readability, and versatility. Python emphasizes code readability with a clean syntax that allows developers to express concepts in fewer lines of code compared to other languages.\n",
        "\n",
        "\n",
        "\n",
        "2) What is an interpreter in Python ?\n",
        "- An interpreter in Python is a program that reads and executes Python code line-by-line\n",
        "\n",
        "3)What are pre-defined keywords in Python ?\n",
        "- Pre-defined keywords in Python are reserved words that have special meaning to the Python interpreter.\n",
        "You cannot use these keywords as variable names, function names, or identifiers, because they are part of Python's syntax and structure.\n",
        "\n",
        "4)Can keywords be used as variable names ?\n",
        "- no\n",
        "\n",
        "5) What is mutability in Python ?\n",
        "- Mutability refers to whether or not an object’s value can be changed after it is created. ex -list,dictionary,set.\n",
        "\n",
        "6)Why are lists mutable, but tuples are immutable?\n",
        "- Lists are used when you need a dynamic collection of items that can change during program execution.\n",
        "Tuples are used when you want a fixed, constant group of items.\n",
        "\n",
        "7)What is the difference between “==” and “is” operators in Python\n",
        "- '==' equality operator, 2 seperate objects are equal .\n",
        "\"is\" Checks if two variables point to the exact same object in memory.\n",
        "\n",
        "8)What are logical operators in Python ?\n",
        "- Logical operators are used to combine conditional statements (Boolean expressions). They return True or False based on logic.\n",
        "logical and , logical or logical not.\n",
        "\n",
        "9)What is type casting in Python ?\n",
        "- Type casting (also called type conversion) is the process of converting one data type into another.\n",
        "\n",
        "10)What is the difference between implicit and explicit type casting ?\n",
        "- implicit- Python automatically converts one data type to another\n",
        "explicit- You manually convert the data type using functions like int(), float(), str(), etc.\n",
        "\n",
        "11)What is the purpose of conditional statements in Python ?\n",
        "- Conditional statements are used in Python to make decisions in your code. They allow a program to execute certain blocks of code only if specific conditions are met. ex- if, if else, if-elif-else.\n",
        "\n",
        "12)  How does the elif statement work ?\n",
        "- elif is short for \"else if\" and it lets you check multiple conditions sequentially after an initial if.\n",
        "\n",
        "13)What is the difference between for and while loops ?\n",
        "- for Loop\n",
        "Used when you know in advance how many times you want to repeat something.\n",
        "while Loop\n",
        "Used when you want to repeat as long as a condition is True.\n",
        "\n",
        "14)Describe a scenario where a while loop is more suitable than a for loop?\n",
        "- when u want user to enter captcha until it is correct.\n",
        "\n",
        "\n"
      ],
      "metadata": {
        "id": "uz5IidaWfzF8"
      }
    },
    {
      "cell_type": "markdown",
      "source": [
        "Write a Python program to print \"Hello, World!y"
      ],
      "metadata": {
        "id": "5gjoBw_bfyNR"
      }
    },
    {
      "cell_type": "code",
      "source": [
        "s=print(\"Hello, world!y\")\n",
        "s"
      ],
      "metadata": {
        "colab": {
          "base_uri": "https://localhost:8080/"
        },
        "id": "b7aasgUhk9zq",
        "outputId": "48550bde-9294-4060-c73c-6add725f4c33"
      },
      "execution_count": null,
      "outputs": [
        {
          "output_type": "stream",
          "name": "stdout",
          "text": [
            "Hello, world!y\n"
          ]
        }
      ]
    },
    {
      "cell_type": "markdown",
      "source": [
        "\n",
        "\n",
        "Write a Python program that displays your name and age?\n",
        "\n",
        "\n"
      ],
      "metadata": {
        "id": "2fQxC85Nk-tJ"
      }
    },
    {
      "cell_type": "code",
      "source": [
        "from os import name\n",
        "name= input(\"enter your name\")\n",
        "\n",
        "age= input(\"enter your age\")"
      ],
      "metadata": {
        "colab": {
          "base_uri": "https://localhost:8080/"
        },
        "id": "CsZL5kx9lkLv",
        "outputId": "f16d9093-3174-427b-92c8-8a86b1c5d1f4"
      },
      "execution_count": null,
      "outputs": [
        {
          "name": "stdout",
          "output_type": "stream",
          "text": [
            "enter your namechinmay\n",
            "enter your age28\n"
          ]
        }
      ]
    },
    {
      "cell_type": "markdown",
      "source": [
        " Write code to print all the pre-defined keywords in Python using the keyword library?\n"
      ],
      "metadata": {
        "id": "4IL930qYnDii"
      }
    },
    {
      "cell_type": "code",
      "source": [
        "help(\"keywords\")"
      ],
      "metadata": {
        "colab": {
          "base_uri": "https://localhost:8080/"
        },
        "id": "gqBdgA1TnbDT",
        "outputId": "fae2c19f-0b3d-4a1d-c102-ee51f1cdef2e"
      },
      "execution_count": null,
      "outputs": [
        {
          "output_type": "stream",
          "name": "stdout",
          "text": [
            "\n",
            "Here is a list of the Python keywords.  Enter any keyword to get more help.\n",
            "\n",
            "False               class               from                or\n",
            "None                continue            global              pass\n",
            "True                def                 if                  raise\n",
            "and                 del                 import              return\n",
            "as                  elif                in                  try\n",
            "assert              else                is                  while\n",
            "async               except              lambda              with\n",
            "await               finally             nonlocal            yield\n",
            "break               for                 not                 \n",
            "\n"
          ]
        }
      ]
    },
    {
      "cell_type": "markdown",
      "source": [
        "Write a program that checks if a given word is a Python keyword."
      ],
      "metadata": {
        "id": "vVTBtw7LoAX3"
      }
    },
    {
      "cell_type": "code",
      "source": [
        "import keyword\n",
        "\n",
        "word = input(\"Enter a word to check if it is a Python keyword: \")\n",
        "\n",
        "if word in keyword.kwlist:\n",
        "    print(f\"'{word}' is a Python keyword.\")\n",
        "else:\n",
        "    print(f\"'{word}' is NOT a Python keyword.\")"
      ],
      "metadata": {
        "colab": {
          "base_uri": "https://localhost:8080/"
        },
        "id": "3TKanzGtn1vO",
        "outputId": "0f760aa9-f80d-4c1a-8e19-dd763bad87af"
      },
      "execution_count": null,
      "outputs": [
        {
          "output_type": "stream",
          "name": "stdout",
          "text": [
            "Enter a word to check if it is a Python keyword: ksksks\n",
            "'ksksks' is NOT a Python keyword.\n"
          ]
        }
      ]
    },
    {
      "cell_type": "markdown",
      "source": [
        "Create a list and tuple in Python, and demonstrate how attempting to change an element works differently\n",
        "for each."
      ],
      "metadata": {
        "id": "CVie0R2Eof9H"
      }
    },
    {
      "cell_type": "code",
      "source": [
        "list_1=[\"apple\",\"orange\",\"banana\"]\n",
        "list_1"
      ],
      "metadata": {
        "colab": {
          "base_uri": "https://localhost:8080/"
        },
        "id": "daA_xdODomXh",
        "outputId": "2ea39fa7-120b-474a-ef10-c3352b10f1c1"
      },
      "execution_count": null,
      "outputs": [
        {
          "output_type": "execute_result",
          "data": {
            "text/plain": [
              "['apple', 'orange', 'banana']"
            ]
          },
          "metadata": {},
          "execution_count": 21
        }
      ]
    },
    {
      "cell_type": "code",
      "source": [
        "list_1[0]"
      ],
      "metadata": {
        "colab": {
          "base_uri": "https://localhost:8080/",
          "height": 36
        },
        "id": "G7FmtVopo-68",
        "outputId": "66a53527-f51d-471a-c28e-4982407f2e8c"
      },
      "execution_count": null,
      "outputs": [
        {
          "output_type": "execute_result",
          "data": {
            "text/plain": [
              "'apple'"
            ],
            "application/vnd.google.colaboratory.intrinsic+json": {
              "type": "string"
            }
          },
          "metadata": {},
          "execution_count": 23
        }
      ]
    },
    {
      "cell_type": "code",
      "source": [
        "list_1[0]=\"icecream\""
      ],
      "metadata": {
        "id": "CSoDbIfgpNnP"
      },
      "execution_count": null,
      "outputs": []
    },
    {
      "cell_type": "code",
      "source": [
        "list_1"
      ],
      "metadata": {
        "colab": {
          "base_uri": "https://localhost:8080/"
        },
        "id": "bfnF4jbPpWFp",
        "outputId": "2eff37aa-327b-4c6f-bc84-b1d983645374"
      },
      "execution_count": null,
      "outputs": [
        {
          "output_type": "execute_result",
          "data": {
            "text/plain": [
              "['icecream', 'orange', 'banana']"
            ]
          },
          "metadata": {},
          "execution_count": 25
        }
      ]
    },
    {
      "cell_type": "code",
      "source": [
        "t=(\"chinmay\",\"GTI\",\"indore\",2,2.2)\n",
        "type(t)"
      ],
      "metadata": {
        "colab": {
          "base_uri": "https://localhost:8080/"
        },
        "id": "AyCxLarRpX9v",
        "outputId": "83b6b555-fa8c-44d7-dccf-9172f7b482c9"
      },
      "execution_count": null,
      "outputs": [
        {
          "output_type": "execute_result",
          "data": {
            "text/plain": [
              "tuple"
            ]
          },
          "metadata": {},
          "execution_count": 26
        }
      ]
    },
    {
      "cell_type": "code",
      "source": [
        "t[0]"
      ],
      "metadata": {
        "colab": {
          "base_uri": "https://localhost:8080/",
          "height": 36
        },
        "id": "cH9SaDWqpoH1",
        "outputId": "5327a93d-ab33-4dca-cb07-5077162dd66e"
      },
      "execution_count": null,
      "outputs": [
        {
          "output_type": "execute_result",
          "data": {
            "text/plain": [
              "'chinmay'"
            ],
            "application/vnd.google.colaboratory.intrinsic+json": {
              "type": "string"
            }
          },
          "metadata": {},
          "execution_count": 28
        }
      ]
    },
    {
      "cell_type": "code",
      "source": [
        "t[0]=\"chirayu\""
      ],
      "metadata": {
        "colab": {
          "base_uri": "https://localhost:8080/",
          "height": 141
        },
        "id": "V5ZtROFqpxw2",
        "outputId": "27b6b630-ece2-43fc-f615-89fba053e297"
      },
      "execution_count": null,
      "outputs": [
        {
          "output_type": "error",
          "ename": "TypeError",
          "evalue": "'tuple' object does not support item assignment",
          "traceback": [
            "\u001b[0;31m---------------------------------------------------------------------------\u001b[0m",
            "\u001b[0;31mTypeError\u001b[0m                                 Traceback (most recent call last)",
            "\u001b[0;32m<ipython-input-29-17a218138e4a>\u001b[0m in \u001b[0;36m<cell line: 0>\u001b[0;34m()\u001b[0m\n\u001b[0;32m----> 1\u001b[0;31m \u001b[0mt\u001b[0m\u001b[0;34m[\u001b[0m\u001b[0;36m0\u001b[0m\u001b[0;34m]\u001b[0m\u001b[0;34m=\u001b[0m\u001b[0;34m\"chirayu\"\u001b[0m\u001b[0;34m\u001b[0m\u001b[0;34m\u001b[0m\u001b[0m\n\u001b[0m",
            "\u001b[0;31mTypeError\u001b[0m: 'tuple' object does not support item assignment"
          ]
        }
      ]
    },
    {
      "cell_type": "markdown",
      "source": [
        "Write a function to demonstrate the behavior of mutable and immutable arguments."
      ],
      "metadata": {
        "id": "v02DUut-qGIN"
      }
    },
    {
      "cell_type": "code",
      "source": [
        "def modify_arguments(num, items):\n",
        "    num = num + 5\n",
        "    items.append(100)"
      ],
      "metadata": {
        "id": "i52rlL5HqLqX"
      },
      "execution_count": null,
      "outputs": []
    },
    {
      "cell_type": "markdown",
      "source": [
        "Write a program that performs basic arithmetic operations on two user-input numbers.\n",
        "\n"
      ],
      "metadata": {
        "id": "g73YpkNGRiK8"
      }
    },
    {
      "cell_type": "code",
      "source": [],
      "metadata": {
        "id": "CCOumUm5SLs1"
      },
      "execution_count": null,
      "outputs": []
    },
    {
      "cell_type": "markdown",
      "source": [
        "Write a program to demonstrate the use of logical operators."
      ],
      "metadata": {
        "id": "WQXWgk1GSMmz"
      }
    },
    {
      "cell_type": "code",
      "source": [
        "a = True\n",
        "b = False\n",
        "\n",
        "print(\"a and b =\", a and b)\n",
        "print(\"a or b =\", a or b)\n",
        "print(\"not a =\", not a)"
      ],
      "metadata": {
        "colab": {
          "base_uri": "https://localhost:8080/"
        },
        "id": "Kl1lfgg6SNgN",
        "outputId": "35ae6fac-081c-4e07-829e-6da2c5191b1e"
      },
      "execution_count": null,
      "outputs": [
        {
          "output_type": "stream",
          "name": "stdout",
          "text": [
            "a and b = False\n",
            "a or b = True\n",
            "not a = False\n"
          ]
        }
      ]
    },
    {
      "cell_type": "markdown",
      "source": [
        "Write a Python program to convert user input from string to integer, float, and boolean types."
      ],
      "metadata": {
        "id": "XzxuwqamToZ6"
      }
    },
    {
      "cell_type": "code",
      "source": [
        "a=\"2\"\n",
        "b=3\n",
        "int(a)+b"
      ],
      "metadata": {
        "colab": {
          "base_uri": "https://localhost:8080/"
        },
        "id": "dwBDC0zCThte",
        "outputId": "17970aee-acfe-4a01-aa8f-08c941859c5f"
      },
      "execution_count": null,
      "outputs": [
        {
          "output_type": "execute_result",
          "data": {
            "text/plain": [
              "5"
            ]
          },
          "metadata": {},
          "execution_count": 5
        }
      ]
    },
    {
      "cell_type": "code",
      "source": [
        "\n",
        "float(a)\n",
        "float(a)+b"
      ],
      "metadata": {
        "colab": {
          "base_uri": "https://localhost:8080/"
        },
        "id": "spCd7zy2T0Tv",
        "outputId": "253b4107-3092-40e1-d42c-01dd9b821c26"
      },
      "execution_count": null,
      "outputs": [
        {
          "output_type": "execute_result",
          "data": {
            "text/plain": [
              "5.0"
            ]
          },
          "metadata": {},
          "execution_count": 8
        }
      ]
    },
    {
      "cell_type": "code",
      "source": [
        "bool(a)+b"
      ],
      "metadata": {
        "colab": {
          "base_uri": "https://localhost:8080/"
        },
        "id": "n2ptj8IMULlG",
        "outputId": "6c0d4e19-28bb-4acf-c33e-9378f4cc8ed2"
      },
      "execution_count": null,
      "outputs": [
        {
          "output_type": "execute_result",
          "data": {
            "text/plain": [
              "4"
            ]
          },
          "metadata": {},
          "execution_count": 9
        }
      ]
    },
    {
      "cell_type": "code",
      "source": [
        "\n",
        "bool(a)"
      ],
      "metadata": {
        "colab": {
          "base_uri": "https://localhost:8080/"
        },
        "id": "hwVBIHf6UX_b",
        "outputId": "967508a7-0583-4c2c-eb92-8a6e91f899b2"
      },
      "execution_count": null,
      "outputs": [
        {
          "output_type": "execute_result",
          "data": {
            "text/plain": [
              "True"
            ]
          },
          "metadata": {},
          "execution_count": 10
        }
      ]
    },
    {
      "cell_type": "markdown",
      "source": [
        "Write code to demonstrate type casting with list elements"
      ],
      "metadata": {
        "id": "pqcJ-p6XUe8v"
      }
    },
    {
      "cell_type": "code",
      "source": [
        "float_list = [1.1, 2.5, 3.9, 4.0]\n",
        "\n",
        "print(\"Original list (floats):\", float_list)\n",
        "\n",
        "# Convert float to int (removes decimal part)\n",
        "int_list = [int(x) for x in float_list]\n",
        "\n",
        "print(\"After type casting to integers:\", int_list)"
      ],
      "metadata": {
        "colab": {
          "base_uri": "https://localhost:8080/"
        },
        "id": "-pKIxUowUamT",
        "outputId": "216dc67a-3e5e-4353-914e-0c36a544bb01"
      },
      "execution_count": null,
      "outputs": [
        {
          "output_type": "stream",
          "name": "stdout",
          "text": [
            "Original list (floats): [1.1, 2.5, 3.9, 4.0]\n",
            "After type casting to integers: [1, 2, 3, 4]\n"
          ]
        }
      ]
    },
    {
      "cell_type": "markdown",
      "source": [
        "Write a program that checks if a number is positive, negative, or zero."
      ],
      "metadata": {
        "id": "YdcTcG_hWvsn"
      }
    },
    {
      "cell_type": "code",
      "source": [
        "num=float(input(\"enter a number\"))\n",
        "if num>0:\n",
        "  print(\"number is positive\")\n",
        "elif num<1:\n",
        "  print(\"number is negative\")\n",
        "else:\n",
        "  print(\"number is zero\")"
      ],
      "metadata": {
        "colab": {
          "base_uri": "https://localhost:8080/"
        },
        "id": "iHa8NrNFYO2y",
        "outputId": "b86e0079-63ff-477f-d3ff-b1b0589611c7"
      },
      "execution_count": null,
      "outputs": [
        {
          "output_type": "stream",
          "name": "stdout",
          "text": [
            "enter a number21\n",
            "number is positive\n"
          ]
        }
      ]
    },
    {
      "cell_type": "markdown",
      "source": [
        "Write a for loop to print numbers from 1 to 10."
      ],
      "metadata": {
        "id": "X4yFq4PNZR5U"
      }
    },
    {
      "cell_type": "code",
      "source": [
        "n=10\n",
        "i=1\n",
        "while i<11:\n",
        "  print(i)\n",
        "  i=i+1"
      ],
      "metadata": {
        "id": "7H4Q9aJAZOb2",
        "colab": {
          "base_uri": "https://localhost:8080/"
        },
        "outputId": "28d4a9ee-0024-4b63-a7c9-558c364714ee"
      },
      "execution_count": null,
      "outputs": [
        {
          "output_type": "stream",
          "name": "stdout",
          "text": [
            "1\n",
            "2\n",
            "3\n",
            "4\n",
            "5\n",
            "6\n",
            "7\n",
            "8\n",
            "9\n",
            "10\n"
          ]
        }
      ]
    },
    {
      "cell_type": "markdown",
      "source": [
        " Write a Python program to find the sum of all even numbers between 1 and 50"
      ],
      "metadata": {
        "id": "-Qi_5FOfauQ0"
      }
    },
    {
      "cell_type": "code",
      "source": [
        "total = 0\n",
        "\n",
        "# Loop through numbers from 1 to 50\n",
        "for i in range(1, 51):\n",
        "    if i % 2 == 0:  # Check if the number is even\n",
        "        total += i\n",
        "\n",
        "# Print the result\n",
        "print(\"Sum of all even numbers from 1 to 50 is:\", total)"
      ],
      "metadata": {
        "colab": {
          "base_uri": "https://localhost:8080/"
        },
        "id": "np5DN40Yat2s",
        "outputId": "a43fae55-7ec6-4ca4-84a1-25d6e6d69ffe"
      },
      "execution_count": null,
      "outputs": [
        {
          "output_type": "stream",
          "name": "stdout",
          "text": [
            "Sum of all even numbers from 1 to 50 is: 650\n"
          ]
        }
      ]
    },
    {
      "cell_type": "code",
      "source": [
        "text = input(\"Enter a string: \")\n",
        "\n",
        "# Initialize variables\n",
        "reversed_text = \"\"\n",
        "index = len(text) - 1\n",
        "\n",
        "# Use while loop to reverse the string\n",
        "while index >= 0:\n",
        "    reversed_text += text[index]\n",
        "    index -= 1\n",
        "\n",
        "# Print the reversed string\n",
        "print(\"Reversed string:\", reversed_text)\n"
      ],
      "metadata": {
        "colab": {
          "base_uri": "https://localhost:8080/"
        },
        "id": "7DiJgFxNaf_b",
        "outputId": "7ce35fd4-e3f2-4d1a-c510-33e2a70065a1"
      },
      "execution_count": null,
      "outputs": [
        {
          "output_type": "stream",
          "name": "stdout",
          "text": [
            "Enter a string: \"chinmay\n",
            "Reversed string: yamnihc\"\n"
          ]
        }
      ]
    },
    {
      "cell_type": "markdown",
      "source": [
        " Write a Python program to calculate the factorial of a number provided by the user using a while loop."
      ],
      "metadata": {
        "id": "dTKY7fblfOUq"
      }
    },
    {
      "cell_type": "code",
      "source": [
        "num = int(input(\"Enter a non-negative integer: \"))\n",
        "\n",
        "# Check for negative input\n",
        "if num < 0:\n",
        "    print(\"Factorial is not defined for negative numbers.\")\n",
        "else:\n",
        "    factorial = 1\n",
        "    i = 1\n",
        "\n",
        "    while i <= num:\n",
        "        factorial *= i\n",
        "        i += 1\n",
        "\n",
        "    print(f\"The factorial of {num} is: {factorial}\")"
      ],
      "metadata": {
        "colab": {
          "base_uri": "https://localhost:8080/"
        },
        "id": "HiUKHrkNfL7C",
        "outputId": "2717155b-cbaf-47b7-fe8f-9a1552fb31dc"
      },
      "execution_count": null,
      "outputs": [
        {
          "output_type": "stream",
          "name": "stdout",
          "text": [
            "Enter a non-negative integer: 20\n",
            "The factorial of 20 is: 2432902008176640000\n"
          ]
        }
      ]
    },
    {
      "cell_type": "code",
      "source": [],
      "metadata": {
        "id": "WS22ZtixfbgB"
      },
      "execution_count": null,
      "outputs": []
    }
  ]
}